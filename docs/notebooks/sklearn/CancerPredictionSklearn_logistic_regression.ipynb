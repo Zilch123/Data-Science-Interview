{
  "nbformat": 4,
  "nbformat_minor": 0,
  "metadata": {
    "colab": {
      "name": "sklearn_logistic_regression_vs_gbm.ipynb",
      "provenance": [],
      "collapsed_sections": [],
      "toc_visible": true
    },
    "kernelspec": {
      "display_name": "Python [default]",
      "language": "python",
      "name": "python3"
    }
  },
  "cells": [
    {
      "metadata": {
        "id": "1B9Zb3Bk6wes"
      },
      "cell_type": "markdown",
      "source": [
        "# Blackstraw Data Science Technical Interview"
      ]
    },
    {
      "metadata": {
        "id": "3aEwgwr9vpIU"
      },
      "cell_type": "markdown",
      "source": [
        "### Context: We have Brest Cancer Prediction\n",
        "* Number of Samples: 569  \n",
        "* Number of Features: 30 numeric, predictive attributes  \n",
        "* Number of Classes: 2 \n"
      ]
    },
    {
      "metadata": {
        "id": "dHjxMPqJ60iV"
      },
      "cell_type": "markdown",
      "source": [
        "## Setup"
      ]
    },
    {
      "metadata": {
        "id": "ayp_TDIq6qJj"
      },
      "cell_type": "code",
      "source": [
        "import os\n",
        "import matplotlib.pyplot as plt\n",
        "import seaborn as sns\n",
        "import pandas as pd\n",
        "import numpy as np\n",
        "from collections import OrderedDict\n",
        "\n",
        "from sklearn import datasets\n",
        "from sklearn.preprocessing import label_binarize, LabelBinarizer\n",
        "from sklearn.model_selection import train_test_split, GridSearchCV\n",
        "\n",
        "\n",
        "from sklearn.metrics import precision_recall_curve\n",
        "from sklearn.metrics import classification_report\n",
        "from sklearn.metrics import precision_score, recall_score\n",
        "\n",
        "\n",
        "from sklearn.linear_model import LogisticRegression\n",
        "from sklearn.ensemble import GradientBoostingClassifier\n",
        "DISPLAY_PRECISION = 4\n",
        "pd.set_option(\"display.precision\", DISPLAY_PRECISION)"
      ],
      "execution_count": 2,
      "outputs": []
    },
    {
      "metadata": {
        "id": "06jwwzlX6qJp"
      },
      "cell_type": "markdown",
      "source": [
        "## Get the breast cancer dataset from sklearn"
      ]
    },
    {
      "metadata": {
        "id": "4odozoC66qJq"
      },
      "cell_type": "code",
      "source": [
        "dat = datasets.load_breast_cancer()\n",
        "# print(dat.DESCR)  # detailed description"
      ],
      "execution_count": 3,
      "outputs": []
    },
    {
      "metadata": {
        "id": "SFNFfn766qJu"
      },
      "cell_type": "markdown",
      "source": [
        "## Describe the feature statistics"
      ]
    },
    {
      "metadata": {
        "id": "aeqD1lcY6qJv",
        "colab": {
          "base_uri": "https://localhost:8080/"
        },
        "outputId": "8ef063b1-6145-4578-8ab0-21921acca5a9"
      },
      "cell_type": "code",
      "source": [
        "print(\"The sklearn breast cancer dataset keys:\")\n",
        "print(dat.keys()) # dict_keys(['target_names', 'target', 'feature_names', 'data', 'DESCR'])\n",
        "print(\"---\")\n",
        "\n",
        "# Note that we need to reverse the original '0' and '1' mapping in order to end up with this mapping:\n",
        "# Benign = 0 (negative class)\n",
        "# Malignant = 1 (positive class)\n",
        "\n",
        "li_classes = [dat.target_names[1], dat.target_names[0]]\n",
        "li_target = [1 if x==0 else 0 for x in list(dat.target)]\n",
        "li_ftrs = list(dat.feature_names)\n",
        "\n",
        "print(\"There are 2 target classes:\")\n",
        "print(\"li_classes\", li_classes)\n",
        "print(\"---\")\n",
        "print(\"Target class distribution from a total of %d target values:\" % len(li_target))\n",
        "print(pd.Series(li_target).value_counts())\n",
        "print(\"---\")\n",
        "\n",
        "df_all = pd.DataFrame(dat.data[:,:], columns=li_ftrs)\n",
        "print(\"Describe dataframe, first 6 columns:\")\n",
        "print(df_all.iloc[:,:6].describe().to_string())"
      ],
      "execution_count": 5,
      "outputs": [
        {
          "output_type": "stream",
          "name": "stdout",
          "text": [
            "The sklearn breast cancer dataset keys:\n",
            "dict_keys(['data', 'target', 'frame', 'target_names', 'DESCR', 'feature_names', 'filename', 'data_module'])\n",
            "---\n",
            "There are 2 target classes:\n",
            "li_classes ['benign', 'malignant']\n",
            "---\n",
            "Target class distribution from a total of 569 target values:\n",
            "0    357\n",
            "1    212\n",
            "dtype: int64\n",
            "---\n",
            "Describe dataframe, first 6 columns:\n",
            "       mean radius  mean texture  mean perimeter  mean area  mean smoothness  mean compactness\n",
            "count     569.0000      569.0000         569.000   569.0000         569.0000          569.0000\n",
            "mean       14.1273       19.2896          91.969   654.8891           0.0964            0.1043\n",
            "std         3.5240        4.3010          24.299   351.9141           0.0141            0.0528\n",
            "min         6.9810        9.7100          43.790   143.5000           0.0526            0.0194\n",
            "25%        11.7000       16.1700          75.170   420.3000           0.0864            0.0649\n",
            "50%        13.3700       18.8400          86.240   551.1000           0.0959            0.0926\n",
            "75%        15.7800       21.8000         104.100   782.7000           0.1053            0.1304\n",
            "max        28.1100       39.2800         188.500  2501.0000           0.1634            0.3454\n"
          ]
        }
      ]
    },
    {
      "cell_type": "code",
      "source": [
        "# Setup X and y\n",
        "train_df = df_all.copy()\n",
        "train_df['target'] = li_target"
      ],
      "metadata": {
        "id": "SPLX_6_erG4M"
      },
      "execution_count": 12,
      "outputs": []
    },
    {
      "cell_type": "markdown",
      "source": [
        "## Question: (2 min)\n",
        "#### 1.) What is the most correlated variable to target?"
      ],
      "metadata": {
        "id": "xGxrIlF-3ncv"
      }
    },
    {
      "cell_type": "code",
      "source": [
        "train_df.corr()['target'].sort_values()"
      ],
      "metadata": {
        "colab": {
          "base_uri": "https://localhost:8080/"
        },
        "id": "mFNu3hCJsQTI",
        "outputId": "c2a489cc-6f23-40d6-939b-96c9ecf40127"
      },
      "execution_count": 29,
      "outputs": [
        {
          "output_type": "execute_result",
          "data": {
            "text/plain": [
              "smoothness error          -0.0670\n",
              "mean fractal dimension    -0.0128\n",
              "texture error             -0.0083\n",
              "symmetry error            -0.0065\n",
              "fractal dimension error    0.0780\n",
              "concavity error            0.2537\n",
              "compactness error          0.2930\n",
              "worst fractal dimension    0.3239\n",
              "mean symmetry              0.3305\n",
              "mean smoothness            0.3586\n",
              "concave points error       0.4080\n",
              "mean texture               0.4152\n",
              "worst symmetry             0.4163\n",
              "worst smoothness           0.4215\n",
              "worst texture              0.4569\n",
              "area error                 0.5482\n",
              "perimeter error            0.5561\n",
              "radius error               0.5671\n",
              "worst compactness          0.5910\n",
              "mean compactness           0.5965\n",
              "worst concavity            0.6596\n",
              "mean concavity             0.6964\n",
              "mean area                  0.7090\n",
              "mean radius                0.7300\n",
              "worst area                 0.7338\n",
              "mean perimeter             0.7426\n",
              "worst radius               0.7765\n",
              "mean concave points        0.7766\n",
              "worst perimeter            0.7829\n",
              "worst concave points       0.7936\n",
              "target                     1.0000\n",
              "Name: target, dtype: float64"
            ]
          },
          "metadata": {},
          "execution_count": 29
        }
      ]
    },
    {
      "cell_type": "markdown",
      "source": [
        "## Question: (8 min)\n",
        "\n",
        "#### 2.) Of the top five most correlated variable what is the quatitative difference, with tolerance, between Benign(Negative) and Malignant(Positive)?\n"
      ],
      "metadata": {
        "id": "6g9Ghzymu4LI"
      }
    },
    {
      "cell_type": "code",
      "source": [
        "top_corr_columns = ['mean perimeter','worst radius','mean concave points','worst perimeter','worst concave points']"
      ],
      "metadata": {
        "id": "sQbUuvbYzUTu"
      },
      "execution_count": 35,
      "outputs": []
    },
    {
      "cell_type": "code",
      "source": [
        "train_df.groupby(['target']).agg('mean')[top_corr_columns]"
      ],
      "metadata": {
        "colab": {
          "base_uri": "https://localhost:8080/",
          "height": 144
        },
        "id": "GyeawUXqsu1q",
        "outputId": "04c0bb43-66ec-4c98-f019-2c504b8e2705"
      },
      "execution_count": 36,
      "outputs": [
        {
          "output_type": "execute_result",
          "data": {
            "text/plain": [
              "        mean perimeter  worst radius  mean concave points  worst perimeter  \\\n",
              "target                                                                       \n",
              "0              78.0754       13.3798               0.0257          87.0059   \n",
              "1             115.3654       21.1348               0.0880         141.3703   \n",
              "\n",
              "        worst concave points  \n",
              "target                        \n",
              "0                     0.0744  \n",
              "1                     0.1822  "
            ],
            "text/html": [
              "\n",
              "  <div id=\"df-900d2119-074d-41b1-bf27-57589bd151f1\">\n",
              "    <div class=\"colab-df-container\">\n",
              "      <div>\n",
              "<style scoped>\n",
              "    .dataframe tbody tr th:only-of-type {\n",
              "        vertical-align: middle;\n",
              "    }\n",
              "\n",
              "    .dataframe tbody tr th {\n",
              "        vertical-align: top;\n",
              "    }\n",
              "\n",
              "    .dataframe thead th {\n",
              "        text-align: right;\n",
              "    }\n",
              "</style>\n",
              "<table border=\"1\" class=\"dataframe\">\n",
              "  <thead>\n",
              "    <tr style=\"text-align: right;\">\n",
              "      <th></th>\n",
              "      <th>mean perimeter</th>\n",
              "      <th>worst radius</th>\n",
              "      <th>mean concave points</th>\n",
              "      <th>worst perimeter</th>\n",
              "      <th>worst concave points</th>\n",
              "    </tr>\n",
              "    <tr>\n",
              "      <th>target</th>\n",
              "      <th></th>\n",
              "      <th></th>\n",
              "      <th></th>\n",
              "      <th></th>\n",
              "      <th></th>\n",
              "    </tr>\n",
              "  </thead>\n",
              "  <tbody>\n",
              "    <tr>\n",
              "      <th>0</th>\n",
              "      <td>78.0754</td>\n",
              "      <td>13.3798</td>\n",
              "      <td>0.0257</td>\n",
              "      <td>87.0059</td>\n",
              "      <td>0.0744</td>\n",
              "    </tr>\n",
              "    <tr>\n",
              "      <th>1</th>\n",
              "      <td>115.3654</td>\n",
              "      <td>21.1348</td>\n",
              "      <td>0.0880</td>\n",
              "      <td>141.3703</td>\n",
              "      <td>0.1822</td>\n",
              "    </tr>\n",
              "  </tbody>\n",
              "</table>\n",
              "</div>\n",
              "      <button class=\"colab-df-convert\" onclick=\"convertToInteractive('df-900d2119-074d-41b1-bf27-57589bd151f1')\"\n",
              "              title=\"Convert this dataframe to an interactive table.\"\n",
              "              style=\"display:none;\">\n",
              "        \n",
              "  <svg xmlns=\"http://www.w3.org/2000/svg\" height=\"24px\"viewBox=\"0 0 24 24\"\n",
              "       width=\"24px\">\n",
              "    <path d=\"M0 0h24v24H0V0z\" fill=\"none\"/>\n",
              "    <path d=\"M18.56 5.44l.94 2.06.94-2.06 2.06-.94-2.06-.94-.94-2.06-.94 2.06-2.06.94zm-11 1L8.5 8.5l.94-2.06 2.06-.94-2.06-.94L8.5 2.5l-.94 2.06-2.06.94zm10 10l.94 2.06.94-2.06 2.06-.94-2.06-.94-.94-2.06-.94 2.06-2.06.94z\"/><path d=\"M17.41 7.96l-1.37-1.37c-.4-.4-.92-.59-1.43-.59-.52 0-1.04.2-1.43.59L10.3 9.45l-7.72 7.72c-.78.78-.78 2.05 0 2.83L4 21.41c.39.39.9.59 1.41.59.51 0 1.02-.2 1.41-.59l7.78-7.78 2.81-2.81c.8-.78.8-2.07 0-2.86zM5.41 20L4 18.59l7.72-7.72 1.47 1.35L5.41 20z\"/>\n",
              "  </svg>\n",
              "      </button>\n",
              "      \n",
              "  <style>\n",
              "    .colab-df-container {\n",
              "      display:flex;\n",
              "      flex-wrap:wrap;\n",
              "      gap: 12px;\n",
              "    }\n",
              "\n",
              "    .colab-df-convert {\n",
              "      background-color: #E8F0FE;\n",
              "      border: none;\n",
              "      border-radius: 50%;\n",
              "      cursor: pointer;\n",
              "      display: none;\n",
              "      fill: #1967D2;\n",
              "      height: 32px;\n",
              "      padding: 0 0 0 0;\n",
              "      width: 32px;\n",
              "    }\n",
              "\n",
              "    .colab-df-convert:hover {\n",
              "      background-color: #E2EBFA;\n",
              "      box-shadow: 0px 1px 2px rgba(60, 64, 67, 0.3), 0px 1px 3px 1px rgba(60, 64, 67, 0.15);\n",
              "      fill: #174EA6;\n",
              "    }\n",
              "\n",
              "    [theme=dark] .colab-df-convert {\n",
              "      background-color: #3B4455;\n",
              "      fill: #D2E3FC;\n",
              "    }\n",
              "\n",
              "    [theme=dark] .colab-df-convert:hover {\n",
              "      background-color: #434B5C;\n",
              "      box-shadow: 0px 1px 3px 1px rgba(0, 0, 0, 0.15);\n",
              "      filter: drop-shadow(0px 1px 2px rgba(0, 0, 0, 0.3));\n",
              "      fill: #FFFFFF;\n",
              "    }\n",
              "  </style>\n",
              "\n",
              "      <script>\n",
              "        const buttonEl =\n",
              "          document.querySelector('#df-900d2119-074d-41b1-bf27-57589bd151f1 button.colab-df-convert');\n",
              "        buttonEl.style.display =\n",
              "          google.colab.kernel.accessAllowed ? 'block' : 'none';\n",
              "\n",
              "        async function convertToInteractive(key) {\n",
              "          const element = document.querySelector('#df-900d2119-074d-41b1-bf27-57589bd151f1');\n",
              "          const dataTable =\n",
              "            await google.colab.kernel.invokeFunction('convertToInteractive',\n",
              "                                                     [key], {});\n",
              "          if (!dataTable) return;\n",
              "\n",
              "          const docLinkHtml = 'Like what you see? Visit the ' +\n",
              "            '<a target=\"_blank\" href=https://colab.research.google.com/notebooks/data_table.ipynb>data table notebook</a>'\n",
              "            + ' to learn more about interactive tables.';\n",
              "          element.innerHTML = '';\n",
              "          dataTable['output_type'] = 'display_data';\n",
              "          await google.colab.output.renderOutput(dataTable, element);\n",
              "          const docLink = document.createElement('div');\n",
              "          docLink.innerHTML = docLinkHtml;\n",
              "          element.appendChild(docLink);\n",
              "        }\n",
              "      </script>\n",
              "    </div>\n",
              "  </div>\n",
              "  "
            ]
          },
          "metadata": {},
          "execution_count": 36
        }
      ]
    },
    {
      "cell_type": "code",
      "source": [
        "train_df.groupby(['target']).agg('std')[top_corr_columns]"
      ],
      "metadata": {
        "colab": {
          "base_uri": "https://localhost:8080/",
          "height": 144
        },
        "id": "_cKU4GuZt_gu",
        "outputId": "7eac61cf-c09d-4bcc-8471-2437fc309838"
      },
      "execution_count": 38,
      "outputs": [
        {
          "output_type": "execute_result",
          "data": {
            "text/plain": [
              "        mean perimeter  worst radius  mean concave points  worst perimeter  \\\n",
              "target                                                                       \n",
              "0              11.8074        1.9814               0.0159          13.5271   \n",
              "1              21.8547        4.2836               0.0344          29.4571   \n",
              "\n",
              "        worst concave points  \n",
              "target                        \n",
              "0                     0.0358  \n",
              "1                     0.0463  "
            ],
            "text/html": [
              "\n",
              "  <div id=\"df-ea61906c-5f6a-4c2c-ab50-ffb61a7ed47b\">\n",
              "    <div class=\"colab-df-container\">\n",
              "      <div>\n",
              "<style scoped>\n",
              "    .dataframe tbody tr th:only-of-type {\n",
              "        vertical-align: middle;\n",
              "    }\n",
              "\n",
              "    .dataframe tbody tr th {\n",
              "        vertical-align: top;\n",
              "    }\n",
              "\n",
              "    .dataframe thead th {\n",
              "        text-align: right;\n",
              "    }\n",
              "</style>\n",
              "<table border=\"1\" class=\"dataframe\">\n",
              "  <thead>\n",
              "    <tr style=\"text-align: right;\">\n",
              "      <th></th>\n",
              "      <th>mean perimeter</th>\n",
              "      <th>worst radius</th>\n",
              "      <th>mean concave points</th>\n",
              "      <th>worst perimeter</th>\n",
              "      <th>worst concave points</th>\n",
              "    </tr>\n",
              "    <tr>\n",
              "      <th>target</th>\n",
              "      <th></th>\n",
              "      <th></th>\n",
              "      <th></th>\n",
              "      <th></th>\n",
              "      <th></th>\n",
              "    </tr>\n",
              "  </thead>\n",
              "  <tbody>\n",
              "    <tr>\n",
              "      <th>0</th>\n",
              "      <td>11.8074</td>\n",
              "      <td>1.9814</td>\n",
              "      <td>0.0159</td>\n",
              "      <td>13.5271</td>\n",
              "      <td>0.0358</td>\n",
              "    </tr>\n",
              "    <tr>\n",
              "      <th>1</th>\n",
              "      <td>21.8547</td>\n",
              "      <td>4.2836</td>\n",
              "      <td>0.0344</td>\n",
              "      <td>29.4571</td>\n",
              "      <td>0.0463</td>\n",
              "    </tr>\n",
              "  </tbody>\n",
              "</table>\n",
              "</div>\n",
              "      <button class=\"colab-df-convert\" onclick=\"convertToInteractive('df-ea61906c-5f6a-4c2c-ab50-ffb61a7ed47b')\"\n",
              "              title=\"Convert this dataframe to an interactive table.\"\n",
              "              style=\"display:none;\">\n",
              "        \n",
              "  <svg xmlns=\"http://www.w3.org/2000/svg\" height=\"24px\"viewBox=\"0 0 24 24\"\n",
              "       width=\"24px\">\n",
              "    <path d=\"M0 0h24v24H0V0z\" fill=\"none\"/>\n",
              "    <path d=\"M18.56 5.44l.94 2.06.94-2.06 2.06-.94-2.06-.94-.94-2.06-.94 2.06-2.06.94zm-11 1L8.5 8.5l.94-2.06 2.06-.94-2.06-.94L8.5 2.5l-.94 2.06-2.06.94zm10 10l.94 2.06.94-2.06 2.06-.94-2.06-.94-.94-2.06-.94 2.06-2.06.94z\"/><path d=\"M17.41 7.96l-1.37-1.37c-.4-.4-.92-.59-1.43-.59-.52 0-1.04.2-1.43.59L10.3 9.45l-7.72 7.72c-.78.78-.78 2.05 0 2.83L4 21.41c.39.39.9.59 1.41.59.51 0 1.02-.2 1.41-.59l7.78-7.78 2.81-2.81c.8-.78.8-2.07 0-2.86zM5.41 20L4 18.59l7.72-7.72 1.47 1.35L5.41 20z\"/>\n",
              "  </svg>\n",
              "      </button>\n",
              "      \n",
              "  <style>\n",
              "    .colab-df-container {\n",
              "      display:flex;\n",
              "      flex-wrap:wrap;\n",
              "      gap: 12px;\n",
              "    }\n",
              "\n",
              "    .colab-df-convert {\n",
              "      background-color: #E8F0FE;\n",
              "      border: none;\n",
              "      border-radius: 50%;\n",
              "      cursor: pointer;\n",
              "      display: none;\n",
              "      fill: #1967D2;\n",
              "      height: 32px;\n",
              "      padding: 0 0 0 0;\n",
              "      width: 32px;\n",
              "    }\n",
              "\n",
              "    .colab-df-convert:hover {\n",
              "      background-color: #E2EBFA;\n",
              "      box-shadow: 0px 1px 2px rgba(60, 64, 67, 0.3), 0px 1px 3px 1px rgba(60, 64, 67, 0.15);\n",
              "      fill: #174EA6;\n",
              "    }\n",
              "\n",
              "    [theme=dark] .colab-df-convert {\n",
              "      background-color: #3B4455;\n",
              "      fill: #D2E3FC;\n",
              "    }\n",
              "\n",
              "    [theme=dark] .colab-df-convert:hover {\n",
              "      background-color: #434B5C;\n",
              "      box-shadow: 0px 1px 3px 1px rgba(0, 0, 0, 0.15);\n",
              "      filter: drop-shadow(0px 1px 2px rgba(0, 0, 0, 0.3));\n",
              "      fill: #FFFFFF;\n",
              "    }\n",
              "  </style>\n",
              "\n",
              "      <script>\n",
              "        const buttonEl =\n",
              "          document.querySelector('#df-ea61906c-5f6a-4c2c-ab50-ffb61a7ed47b button.colab-df-convert');\n",
              "        buttonEl.style.display =\n",
              "          google.colab.kernel.accessAllowed ? 'block' : 'none';\n",
              "\n",
              "        async function convertToInteractive(key) {\n",
              "          const element = document.querySelector('#df-ea61906c-5f6a-4c2c-ab50-ffb61a7ed47b');\n",
              "          const dataTable =\n",
              "            await google.colab.kernel.invokeFunction('convertToInteractive',\n",
              "                                                     [key], {});\n",
              "          if (!dataTable) return;\n",
              "\n",
              "          const docLinkHtml = 'Like what you see? Visit the ' +\n",
              "            '<a target=\"_blank\" href=https://colab.research.google.com/notebooks/data_table.ipynb>data table notebook</a>'\n",
              "            + ' to learn more about interactive tables.';\n",
              "          element.innerHTML = '';\n",
              "          dataTable['output_type'] = 'display_data';\n",
              "          await google.colab.output.renderOutput(dataTable, element);\n",
              "          const docLink = document.createElement('div');\n",
              "          docLink.innerHTML = docLinkHtml;\n",
              "          element.appendChild(docLink);\n",
              "        }\n",
              "      </script>\n",
              "    </div>\n",
              "  </div>\n",
              "  "
            ]
          },
          "metadata": {},
          "execution_count": 38
        }
      ]
    },
    {
      "cell_type": "markdown",
      "source": [
        "## Question:(10 min)\n",
        "#### 3.) Create an Logistic regression model based approach to predict target based on optimal recall score."
      ],
      "metadata": {
        "id": "UneiQZbj3W40"
      }
    },
    {
      "metadata": {
        "id": "kXO8VwRCvkjT",
        "colab": {
          "base_uri": "https://localhost:8080/"
        },
        "outputId": "69fc69a9-1ecf-4831-ca4b-bdd732877433"
      },
      "cell_type": "code",
      "source": [
        "TEST_SIZE_RATIO = 0.2  \n",
        "\n",
        "# Setup X and y\n",
        "X = df_all\n",
        "y = pd.Series(li_target)\n",
        "\n",
        "X_train, X_test, y_train, y_test = train_test_split(X, y, test_size=TEST_SIZE_RATIO, random_state=0)\n",
        "print(\"X_train_0.shape, y_train.shape\", X_train.shape, y_train.shape)\n",
        "print(\"X_test_0.shape, y_test.shape\", X_test.shape, y_test.shape)"
      ],
      "execution_count": 40,
      "outputs": [
        {
          "output_type": "stream",
          "name": "stdout",
          "text": [
            "X_train_0.shape, y_train.shape (455, 30) (455,)\n",
            "X_test_0.shape, y_test.shape (114, 30) (114,)\n"
          ]
        }
      ]
    },
    {
      "metadata": {
        "id": "jSRHkaZ_u4BI",
        "colab": {
          "base_uri": "https://localhost:8080/"
        },
        "outputId": "017f7593-2d19-4622-c527-76b61ea11162"
      },
      "cell_type": "code",
      "source": [
        "# Train data\n",
        "print(\"X_train.shape, y_train.shape\", X_train.shape, y_train.shape)\n",
        "\n",
        "## Print the class distribution of the TARGET for both train and test sets\n",
        "val_cnts = y_train.value_counts()\n",
        "print(\"Class distribution of positive and negative samples in the train set:\")\n",
        "print(val_cnts)\n",
        "print(\"Percentage of positive class samples: %s\" % \"%2f%%\" % (100 * val_cnts[1] / len(y_train)))\n",
        "\n",
        "print(\"---\")\n",
        "print(\"X_test.shape, y_test.shape\", X_test.shape, y_test.shape)\n",
        "\n",
        "val_cnts = y_test.value_counts()\n",
        "print(\"Class distribution of positive and negative samples in the test set:\")\n",
        "print(val_cnts)\n",
        "print(\"Percentage of positive class samples: %s\" % \"%2f%%\" % (100 * val_cnts[1] / len(y_test)))"
      ],
      "execution_count": 41,
      "outputs": [
        {
          "output_type": "stream",
          "name": "stdout",
          "text": [
            "X_train.shape, y_train.shape (455, 30) (455,)\n",
            "Class distribution of positive and negative samples in the train set:\n",
            "0    290\n",
            "1    165\n",
            "dtype: int64\n",
            "Percentage of positive class samples: 36.263736%\n",
            "---\n",
            "X_test.shape, y_test.shape (114, 30) (114,)\n",
            "Class distribution of positive and negative samples in the test set:\n",
            "0    67\n",
            "1    47\n",
            "dtype: int64\n",
            "Percentage of positive class samples: 41.228070%\n"
          ]
        }
      ]
    },
    {
      "metadata": {
        "id": "L73E_RA5wnzu"
      },
      "cell_type": "markdown",
      "source": [
        "Note that in some cases it is easier to train a model if we maintain an exact balance of train and test target values (a stratified sample). Here the positive to negative class ratio happens to already be quite well balanced in the train and test sets."
      ]
    },
    {
      "metadata": {
        "id": "Y0RD-RLL6qKj",
        "colab": {
          "base_uri": "https://localhost:8080/"
        },
        "outputId": "bb777e4b-e28e-47eb-e577-a85535498027"
      },
      "cell_type": "code",
      "source": [
        "clf_lr = LogisticRegression()\n",
        "\n",
        "# Fit the model\n",
        "clf_lr.fit(X_train, y_train)\n",
        "\n",
        "# Print Logistic Regression specific attributes\n",
        "print(\"intercept_:\")\n",
        "print(clf_lr.intercept_ )\n",
        "print()\n",
        "print(\"coef_:\")\n",
        "print(clf_lr.coef_)"
      ],
      "execution_count": 42,
      "outputs": [
        {
          "output_type": "stream",
          "name": "stdout",
          "text": [
            "intercept_:\n",
            "[-0.37268061]\n",
            "\n",
            "coef_:\n",
            "[[-1.7095485  -0.07141071 -0.10394832  0.00582353  0.07591408  0.32593914\n",
            "   0.44768829  0.19695951  0.14338856  0.02191844 -0.06833501 -0.74804799\n",
            "  -0.31702196  0.12359283  0.00467451  0.05736809  0.08483994  0.02429963\n",
            "   0.03065546  0.00333667 -1.72718691  0.28367766  0.30229209  0.02137787\n",
            "   0.13095958  1.0351117   1.31489149  0.39514903  0.39740857  0.10446571]]\n"
          ]
        },
        {
          "output_type": "stream",
          "name": "stderr",
          "text": [
            "/usr/local/lib/python3.7/dist-packages/sklearn/utils/validation.py:1692: FutureWarning: Feature names only support names that are all strings. Got feature names with dtypes: ['str_']. An error will be raised in 1.2.\n",
            "  FutureWarning,\n",
            "/usr/local/lib/python3.7/dist-packages/sklearn/linear_model/_logistic.py:818: ConvergenceWarning: lbfgs failed to converge (status=1):\n",
            "STOP: TOTAL NO. of ITERATIONS REACHED LIMIT.\n",
            "\n",
            "Increase the number of iterations (max_iter) or scale the data as shown in:\n",
            "    https://scikit-learn.org/stable/modules/preprocessing.html\n",
            "Please also refer to the documentation for alternative solver options:\n",
            "    https://scikit-learn.org/stable/modules/linear_model.html#logistic-regression\n",
            "  extra_warning_msg=_LOGISTIC_SOLVER_CONVERGENCE_MSG,\n"
          ]
        }
      ]
    },
    {
      "cell_type": "code",
      "source": [
        "y_pred = clf_lr.predict(X_test)\n",
        "print(classification_report(y_test,y_pred))"
      ],
      "metadata": {
        "colab": {
          "base_uri": "https://localhost:8080/"
        },
        "id": "s-_ZkBvz2X8S",
        "outputId": "d5e36c0b-aa7c-4ea0-8946-4a895f980812"
      },
      "execution_count": 45,
      "outputs": [
        {
          "output_type": "stream",
          "name": "stdout",
          "text": [
            "              precision    recall  f1-score   support\n",
            "\n",
            "           0       0.98      0.91      0.95        67\n",
            "           1       0.88      0.98      0.93        47\n",
            "\n",
            "    accuracy                           0.94       114\n",
            "   macro avg       0.93      0.94      0.94       114\n",
            "weighted avg       0.94      0.94      0.94       114\n",
            "\n"
          ]
        },
        {
          "output_type": "stream",
          "name": "stderr",
          "text": [
            "/usr/local/lib/python3.7/dist-packages/sklearn/utils/validation.py:1692: FutureWarning: Feature names only support names that are all strings. Got feature names with dtypes: ['str_']. An error will be raised in 1.2.\n",
            "  FutureWarning,\n"
          ]
        }
      ]
    }
  ]
}